{
 "cells": [
  {
   "cell_type": "code",
   "execution_count": null,
   "id": "cf09bf32",
   "metadata": {},
   "outputs": [],
   "source": [
    "!pip install pandas\n",
    "!pip install numpy\n",
    "!pip install requests\n",
    "!pip install lxml\n",
    "!pip install yfinance\n",
    "!pip install sklearn\n",
    "!pip install matplotlib\n",
    "!pip install pandas_datareader"
   ]
  },
  {
   "cell_type": "code",
   "execution_count": 1,
   "id": "1c4806ac",
   "metadata": {},
   "outputs": [],
   "source": [
    "# Data Manipulation\n",
    "import numpy as np\n",
    "import pandas as pd\n",
    "import lxml\n",
    "import requests\n",
    "\n",
    "# Technical Indicators\n",
    "import talib as ta\n",
    "\n",
    "# Plotting graphs\n",
    "import matplotlib.pyplot as plt\n",
    "\n",
    "# Machine learning\n",
    "from sklearn.linear_model import LogisticRegression\n",
    "from sklearn import metrics\n",
    "from sklearn.model_selection import cross_val_score\n",
    "from sklearn.preprocessing import StandardScaler\n",
    "\n",
    "# Data fetching\n",
    "from pandas_datareader import data as pdr\n",
    "import yfinance as yf\n",
    "yf.pdr_override()"
   ]
  },
  {
   "cell_type": "code",
   "execution_count": 2,
   "id": "6198cd4b",
   "metadata": {},
   "outputs": [
    {
     "name": "stderr",
     "output_type": "stream",
     "text": [
      "[*********************100%%**********************]  1 of 1 completed\n",
      "[*********************100%%**********************]  1 of 1 completed\n"
     ]
    }
   ],
   "source": [
    "#data frame for the original model.\n",
    "df = yf.download('AOT.bk', start='2023-06-01', end='2023-12-10', interval = '1h')\n",
    "df = df.dropna()\n",
    "df = df.iloc[:,:4]\n",
    "\n",
    "#data frame for my model, I want to keep the volume and adj price.\n",
    "df2 = yf.download('AOT.bk', start='2023-06-01', end='2023-12-10', interval = '1h')\n",
    "df = df.dropna()\n",
    "df2 = df2.iloc[:,:6]"
   ]
  },
  {
   "cell_type": "code",
   "execution_count": 3,
   "id": "08f65b4e",
   "metadata": {},
   "outputs": [
    {
     "name": "stderr",
     "output_type": "stream",
     "text": [
      "[*********************100%%**********************]  1 of 1 completed\n"
     ]
    }
   ],
   "source": [
    "# making indicator columns (X) for the original model;\n",
    "df['S_10'] = df['Close'].rolling(window=10).mean()\n",
    "df['Corr'] = df['Close'].rolling(window=10).corr(df['S_10'])\n",
    "df['RSI'] = ta.RSI(np.array(df['Close']), timeperiod =10)\n",
    "df['Open-Close'] = df['Open'] - df['Close'].shift(1)\n",
    "df['Open-Open'] = df['Open'] - df['Open'].shift(1)\n",
    "df = df.dropna()\n",
    "X = df.iloc[:,:9]\n",
    "\n",
    "# indicators columns (X) for my model;\n",
    "sett = yf.download('^SET.bk', start='2023-06-01', end='2023-12-10', interval = '1h')\n",
    "df2['set_index'] = sett['Close']\n",
    "df2['S_5'] = df2['Close'].rolling(window=5).mean()\n",
    "df2['S_10'] = df2['Close'].rolling(window=10).mean()\n",
    "df2['Corr'] = df2['Close'].rolling(window=10).corr(df2['S_10'])\n",
    "df2['RSI'] = ta.RSI(np.array(df2['Close']), timeperiod =10)\n",
    "df2['Open-Close'] = df2['Open'] - df2['Close'].shift(1)\n",
    "df2['Open-Open'] = df2['Open'] - df2['Open'].shift(1)\n",
    "macd, signal, _ = ta.MACD(df2['Close'], fastperiod=12, slowperiod=26, signalperiod=9)\n",
    "df2['MACD'] = macd\n",
    "df2['MACD_Signal'] = signal\n",
    "df2['SAR'] = ta.SAR(df2['High'], df2['Low'], acceleration = 0.02, maximum = 0.2)\n",
    "df2['Signal'] = np.nan\n",
    "df2.loc[(df2['Close'] < df2['SAR']), 'Signal'] = -1\n",
    "df2.loc[(df2['Close'] > df2['SAR']), 'Signal'] = 1\n",
    "df2 = df2.dropna()\n",
    "X2 = df2.iloc[:,:]"
   ]
  },
  {
   "cell_type": "code",
   "execution_count": 4,
   "id": "925a615f",
   "metadata": {},
   "outputs": [],
   "source": [
    "# making target column (y) for the original model and my model\n",
    "\n",
    "y = np.where(df['Close'].shift(-1) > df['Close'],1,-1)\n",
    "y2 = np.where(df2['Close'].shift(-1) > df2['Close'],1,-1)"
   ]
  },
  {
   "cell_type": "code",
   "execution_count": 5,
   "id": "1e77fd88",
   "metadata": {},
   "outputs": [],
   "source": [
    "#split for testing\n",
    "\n",
    "split = int(0.8*len(df))\n",
    "X_train, X_test, y_train, y_test = X[:split], X[split:], y[:split], y[split:]\n",
    "\n",
    "split2 = int(0.8*len(df2))\n",
    "X2_train, X2_test, y2_train, y2_test = X2[:split], X2[split:], y2[:split], y2[split:]"
   ]
  },
  {
   "cell_type": "code",
   "execution_count": 6,
   "id": "b3a6a52f",
   "metadata": {},
   "outputs": [],
   "source": [
    "#model training\n",
    "model = LogisticRegression(max_iter = 1000000000)\n",
    "model = model.fit (X_train,y_train)\n",
    "\n",
    "model2 = LogisticRegression(max_iter = 1000000000)\n",
    "model2 = model2.fit (X2_train,y2_train)"
   ]
  },
  {
   "cell_type": "code",
   "execution_count": 7,
   "id": "8882d1d4",
   "metadata": {},
   "outputs": [
    {
     "data": {
      "text/html": [
       "<div>\n",
       "<style scoped>\n",
       "    .dataframe tbody tr th:only-of-type {\n",
       "        vertical-align: middle;\n",
       "    }\n",
       "\n",
       "    .dataframe tbody tr th {\n",
       "        vertical-align: top;\n",
       "    }\n",
       "\n",
       "    .dataframe thead th {\n",
       "        text-align: right;\n",
       "    }\n",
       "</style>\n",
       "<table border=\"1\" class=\"dataframe\">\n",
       "  <thead>\n",
       "    <tr style=\"text-align: right;\">\n",
       "      <th></th>\n",
       "      <th>0</th>\n",
       "      <th>1</th>\n",
       "    </tr>\n",
       "  </thead>\n",
       "  <tbody>\n",
       "    <tr>\n",
       "      <th>0</th>\n",
       "      <td>Open</td>\n",
       "      <td>[-3.150288600664614e-05]</td>\n",
       "    </tr>\n",
       "    <tr>\n",
       "      <th>1</th>\n",
       "      <td>High</td>\n",
       "      <td>[-3.161905787224996e-05]</td>\n",
       "    </tr>\n",
       "    <tr>\n",
       "      <th>2</th>\n",
       "      <td>Low</td>\n",
       "      <td>[-3.144764621568353e-05]</td>\n",
       "    </tr>\n",
       "    <tr>\n",
       "      <th>3</th>\n",
       "      <td>Close</td>\n",
       "      <td>[-3.16004376514877e-05]</td>\n",
       "    </tr>\n",
       "    <tr>\n",
       "      <th>4</th>\n",
       "      <td>Adj Close</td>\n",
       "      <td>[-3.16004376514877e-05]</td>\n",
       "    </tr>\n",
       "    <tr>\n",
       "      <th>5</th>\n",
       "      <td>Volume</td>\n",
       "      <td>[3.189643868148945e-08]</td>\n",
       "    </tr>\n",
       "    <tr>\n",
       "      <th>6</th>\n",
       "      <td>set_index</td>\n",
       "      <td>[-0.0006715226810765231]</td>\n",
       "    </tr>\n",
       "    <tr>\n",
       "      <th>7</th>\n",
       "      <td>S_5</td>\n",
       "      <td>[-3.152510535971017e-05]</td>\n",
       "    </tr>\n",
       "    <tr>\n",
       "      <th>8</th>\n",
       "      <td>S_10</td>\n",
       "      <td>[-3.152327294802673e-05]</td>\n",
       "    </tr>\n",
       "    <tr>\n",
       "      <th>9</th>\n",
       "      <td>Corr</td>\n",
       "      <td>[-1.0618431773445799e-07]</td>\n",
       "    </tr>\n",
       "    <tr>\n",
       "      <th>10</th>\n",
       "      <td>RSI</td>\n",
       "      <td>[-2.441853042586647e-05]</td>\n",
       "    </tr>\n",
       "    <tr>\n",
       "      <th>11</th>\n",
       "      <td>Open-Close</td>\n",
       "      <td>[1.6467356163332442e-08]</td>\n",
       "    </tr>\n",
       "    <tr>\n",
       "      <th>12</th>\n",
       "      <td>Open-Open</td>\n",
       "      <td>[-1.435362398213714e-09]</td>\n",
       "    </tr>\n",
       "    <tr>\n",
       "      <th>13</th>\n",
       "      <td>MACD</td>\n",
       "      <td>[-5.598738877774443e-09]</td>\n",
       "    </tr>\n",
       "    <tr>\n",
       "      <th>14</th>\n",
       "      <td>MACD_Signal</td>\n",
       "      <td>[2.188260208587622e-09]</td>\n",
       "    </tr>\n",
       "    <tr>\n",
       "      <th>15</th>\n",
       "      <td>SAR</td>\n",
       "      <td>[-3.1460385837992924e-05]</td>\n",
       "    </tr>\n",
       "    <tr>\n",
       "      <th>16</th>\n",
       "      <td>Signal</td>\n",
       "      <td>[-6.843292171567687e-08]</td>\n",
       "    </tr>\n",
       "  </tbody>\n",
       "</table>\n",
       "</div>"
      ],
      "text/plain": [
       "              0                          1\n",
       "0          Open   [-3.150288600664614e-05]\n",
       "1          High   [-3.161905787224996e-05]\n",
       "2           Low   [-3.144764621568353e-05]\n",
       "3         Close    [-3.16004376514877e-05]\n",
       "4     Adj Close    [-3.16004376514877e-05]\n",
       "5        Volume    [3.189643868148945e-08]\n",
       "6     set_index   [-0.0006715226810765231]\n",
       "7           S_5   [-3.152510535971017e-05]\n",
       "8          S_10   [-3.152327294802673e-05]\n",
       "9          Corr  [-1.0618431773445799e-07]\n",
       "10          RSI   [-2.441853042586647e-05]\n",
       "11   Open-Close   [1.6467356163332442e-08]\n",
       "12    Open-Open   [-1.435362398213714e-09]\n",
       "13         MACD   [-5.598738877774443e-09]\n",
       "14  MACD_Signal    [2.188260208587622e-09]\n",
       "15          SAR  [-3.1460385837992924e-05]\n",
       "16       Signal   [-6.843292171567687e-08]"
      ]
     },
     "execution_count": 7,
     "metadata": {},
     "output_type": "execute_result"
    }
   ],
   "source": [
    "#shows the coefficients\n",
    "pd.DataFrame(zip(X.columns, np.transpose(model.coef_)))\n",
    "pd.DataFrame(zip(X2.columns, np.transpose(model2.coef_)))"
   ]
  },
  {
   "cell_type": "code",
   "execution_count": 8,
   "id": "bf11d638",
   "metadata": {},
   "outputs": [
    {
     "name": "stdout",
     "output_type": "stream",
     "text": [
      "[[0.65738257 0.34261743]\n",
      " [0.68492082 0.31507918]\n",
      " [0.73975281 0.26024719]\n",
      " [0.70900922 0.29099078]\n",
      " [0.72278554 0.27721446]\n",
      " [0.5692858  0.4307142 ]\n",
      " [0.59173504 0.40826496]\n",
      " [0.61542857 0.38457143]\n",
      " [0.70802214 0.29197786]\n",
      " [0.80239519 0.19760481]\n",
      " [0.6986752  0.3013248 ]\n",
      " [0.77679393 0.22320607]\n",
      " [0.70902437 0.29097563]\n",
      " [0.60703533 0.39296467]\n",
      " [0.76929493 0.23070507]\n",
      " [0.70303282 0.29696718]\n",
      " [0.80930019 0.19069981]\n",
      " [0.59760477 0.40239523]\n",
      " [0.5521648  0.4478352 ]\n",
      " [0.54771266 0.45228734]\n",
      " [0.60799943 0.39200057]\n",
      " [0.79120979 0.20879021]\n",
      " [0.62324139 0.37675861]\n",
      " [0.59460404 0.40539596]\n",
      " [0.84365526 0.15634474]\n",
      " [0.79754357 0.20245643]\n",
      " [0.67287339 0.32712661]\n",
      " [0.75764898 0.24235102]\n",
      " [0.79313653 0.20686347]\n",
      " [0.90140955 0.09859045]\n",
      " [0.73852647 0.26147353]\n",
      " [0.73913254 0.26086746]\n",
      " [0.57553345 0.42446655]\n",
      " [0.8576444  0.1423556 ]\n",
      " [0.65303241 0.34696759]\n",
      " [0.64727263 0.35272737]\n",
      " [0.62973353 0.37026647]\n",
      " [0.83178865 0.16821135]\n",
      " [0.83904322 0.16095678]\n",
      " [0.63956183 0.36043817]\n",
      " [0.74526166 0.25473834]\n",
      " [0.84043056 0.15956944]\n",
      " [0.69573067 0.30426933]\n",
      " [0.80605074 0.19394926]\n",
      " [0.84200527 0.15799473]\n",
      " [0.53850953 0.46149047]\n",
      " [0.5216288  0.4783712 ]\n",
      " [0.70093644 0.29906356]\n",
      " [0.53142512 0.46857488]\n",
      " [0.65319521 0.34680479]\n",
      " [0.61679697 0.38320303]\n",
      " [0.65395287 0.34604713]\n",
      " [0.71604166 0.28395834]\n",
      " [0.68986315 0.31013685]\n",
      " [0.60227368 0.39772632]\n",
      " [0.57878501 0.42121499]\n",
      " [0.82706314 0.17293686]\n",
      " [0.75555367 0.24444633]\n",
      " [0.76603465 0.23396535]\n",
      " [0.79319978 0.20680022]\n",
      " [0.86627988 0.13372012]\n",
      " [0.80555544 0.19444456]\n",
      " [0.85607019 0.14392981]\n",
      " [0.78484629 0.21515371]\n",
      " [0.54517742 0.45482258]\n",
      " [0.69488093 0.30511907]\n",
      " [0.77903414 0.22096586]\n",
      " [0.59142985 0.40857015]\n",
      " [0.6285746  0.3714254 ]\n",
      " [0.63342723 0.36657277]\n",
      " [0.63040174 0.36959826]\n",
      " [0.75635934 0.24364066]\n",
      " [0.67932728 0.32067272]\n",
      " [0.76872059 0.23127941]\n",
      " [0.3789421  0.6210579 ]\n",
      " [0.82477909 0.17522091]\n",
      " [0.70553555 0.29446445]\n",
      " [0.72697788 0.27302212]\n",
      " [0.63164458 0.36835542]\n",
      " [0.75692087 0.24307913]\n",
      " [0.66371885 0.33628115]\n",
      " [0.24705577 0.75294423]\n",
      " [0.69589703 0.30410297]\n",
      " [0.70167129 0.29832871]\n",
      " [0.66109983 0.33890017]\n",
      " [0.72994202 0.27005798]\n",
      " [0.11379976 0.88620024]\n",
      " [0.52397631 0.47602369]\n",
      " [0.69722698 0.30277302]\n",
      " [0.97891482 0.02108518]\n",
      " [0.8080333  0.1919667 ]\n",
      " [0.73881936 0.26118064]\n",
      " [0.55907904 0.44092096]\n",
      " [0.64782402 0.35217598]\n",
      " [0.71721587 0.28278413]\n",
      " [0.49943212 0.50056788]\n",
      " [0.55432642 0.44567358]\n",
      " [0.40005532 0.59994468]\n",
      " [0.39136374 0.60863626]\n",
      " [0.4353981  0.5646019 ]\n",
      " [0.77484857 0.22515143]\n",
      " [0.80004583 0.19995417]\n",
      " [0.69071798 0.30928202]\n",
      " [0.64522199 0.35477801]\n",
      " [0.48347989 0.51652011]\n",
      " [0.32884757 0.67115243]\n",
      " [0.64523452 0.35476548]\n",
      " [0.52971815 0.47028185]\n",
      " [0.50986912 0.49013088]\n",
      " [0.4980164  0.5019836 ]\n",
      " [0.34247326 0.65752674]\n",
      " [0.75923529 0.24076471]\n",
      " [0.62237029 0.37762971]\n",
      " [0.77102583 0.22897417]\n",
      " [0.58120172 0.41879828]\n",
      " [0.44226793 0.55773207]\n",
      " [0.30659567 0.69340433]\n",
      " [0.45116217 0.54883783]\n",
      " [0.51706855 0.48293145]\n",
      " [0.39451134 0.60548866]\n",
      " [0.30282015 0.69717985]\n",
      " [0.58242646 0.41757354]\n",
      " [0.14745251 0.85254749]\n",
      " [0.56896314 0.43103686]\n",
      " [0.77067264 0.22932736]\n",
      " [0.48662989 0.51337011]\n",
      " [0.68622876 0.31377124]\n",
      " [0.60455419 0.39544581]\n",
      " [0.86765858 0.13234142]\n",
      " [0.50514348 0.49485652]\n",
      " [0.28653139 0.71346861]\n",
      " [0.23197549 0.76802451]\n",
      " [0.58043048 0.41956952]\n",
      " [0.50731813 0.49268187]\n",
      " [0.42251163 0.57748837]\n",
      " [0.68780918 0.31219082]\n",
      " [0.39622387 0.60377613]\n",
      " [0.68385486 0.31614514]\n",
      " [0.60864789 0.39135211]\n",
      " [0.41224556 0.58775444]\n",
      " [0.68034909 0.31965091]\n",
      " [0.57750713 0.42249287]\n",
      " [0.72544171 0.27455829]\n",
      " [0.57872289 0.42127711]\n",
      " [0.56212663 0.43787337]\n",
      " [0.62967947 0.37032053]\n",
      " [0.57354774 0.42645226]\n",
      " [0.51311913 0.48688087]\n",
      " [0.54970535 0.45029465]\n",
      " [0.38690672 0.61309328]\n",
      " [0.38596349 0.61403651]\n",
      " [0.59457204 0.40542796]]\n"
     ]
    }
   ],
   "source": [
    "probability = model.predict_proba(X_test)\n",
    "probability2 = model2.predict_proba(X2_test)\n",
    "print (probability)"
   ]
  },
  {
   "cell_type": "code",
   "execution_count": 9,
   "id": "6c44081b",
   "metadata": {},
   "outputs": [],
   "source": [
    "predicted = model.predict(X_test)\n",
    "predicted2 = model2.predict(X2_test)"
   ]
  },
  {
   "cell_type": "code",
   "execution_count": 10,
   "id": "5cd7a6dc",
   "metadata": {},
   "outputs": [
    {
     "name": "stdout",
     "output_type": "stream",
     "text": [
      "[[93 11]\n",
      " [34 14]]\n",
      "[[92  1]\n",
      " [43  1]]\n"
     ]
    }
   ],
   "source": [
    "print(metrics.confusion_matrix(y_test, predicted))\n",
    "print(metrics.confusion_matrix(y2_test, predicted2))"
   ]
  },
  {
   "cell_type": "code",
   "execution_count": 11,
   "id": "df1c5706",
   "metadata": {},
   "outputs": [
    {
     "name": "stdout",
     "output_type": "stream",
     "text": [
      "              precision    recall  f1-score   support\n",
      "\n",
      "          -1       0.73      0.89      0.81       104\n",
      "           1       0.56      0.29      0.38        48\n",
      "\n",
      "    accuracy                           0.70       152\n",
      "   macro avg       0.65      0.59      0.59       152\n",
      "weighted avg       0.68      0.70      0.67       152\n",
      "\n",
      "              precision    recall  f1-score   support\n",
      "\n",
      "          -1       0.68      0.99      0.81        93\n",
      "           1       0.50      0.02      0.04        44\n",
      "\n",
      "    accuracy                           0.68       137\n",
      "   macro avg       0.59      0.51      0.43       137\n",
      "weighted avg       0.62      0.68      0.56       137\n",
      "\n"
     ]
    }
   ],
   "source": [
    "print(metrics.classification_report(y_test, predicted))\n",
    "print(metrics.classification_report(y2_test, predicted2))"
   ]
  },
  {
   "cell_type": "code",
   "execution_count": 12,
   "id": "e5d82ee8",
   "metadata": {},
   "outputs": [
    {
     "name": "stdout",
     "output_type": "stream",
     "text": [
      "0.7039473684210527\n",
      "0.6788321167883211\n"
     ]
    }
   ],
   "source": [
    "print(model.score(X_test,y_test))\n",
    "print(model2.score(X2_test,y2_test))"
   ]
  },
  {
   "cell_type": "code",
   "execution_count": 13,
   "id": "ee7d67cd",
   "metadata": {},
   "outputs": [
    {
     "name": "stdout",
     "output_type": "stream",
     "text": [
      "[0.72368421 0.72368421 0.71052632 0.71052632 0.71052632 0.72368421\n",
      " 0.71052632 0.68421053 0.71052632 0.63157895]\n",
      "0.7039473684210527\n",
      "[0.70666667 0.72       0.72       0.72       0.72       0.71621622\n",
      " 0.71621622 0.71621622 0.71621622 0.67567568]\n",
      "0.7127207207207207\n"
     ]
    }
   ],
   "source": [
    "cross_val = cross_val_score(LogisticRegression(max_iter = 1000000000), X, y, scoring='accuracy', cv=10)\n",
    "print(cross_val)\n",
    "print(cross_val.mean())\n",
    "\n",
    "cross_val2 = cross_val_score(LogisticRegression(max_iter = 1000000000), X2, y2, scoring='accuracy', cv=10)\n",
    "print(cross_val2)\n",
    "print(cross_val2.mean())"
   ]
  },
  {
   "cell_type": "code",
   "execution_count": 14,
   "id": "64d93acc",
   "metadata": {},
   "outputs": [
    {
     "data": {
      "image/png": "[encoded data removed]",
      "text/plain": [
       "<Figure size 1000x500 with 1 Axes>"
      ]
     },
     "metadata": {},
     "output_type": "display_data"
    }
   ],
   "source": [
    "#the original method's graph\n",
    "df['Predicted_Signal'] = model.predict(X)\n",
    "df['AOT_movement'] = np.log(df['Close']/df['Close'].shift(1))\n",
    "Cumulative_AOT_returns = np.cumsum(df[split:]['AOT_movement'])\n",
    "df['Original_Startegy_returns'] = df['AOT_movement']* df['Predicted_Signal'].shift(1)\n",
    "Cumulative_Strategy_returns = np.cumsum(df[split:]['Original_Startegy_returns'])\n",
    "\n",
    "#my model's graph\n",
    "df2.loc[:, 'Predicted_Signal2'] = model2.predict(X2)\n",
    "df2.loc[:, 'AOT_movement'] = np.log(df2['Close'] / df2['Close'].shift(1))\n",
    "df2.loc[:, 'My_returns'] = df2['AOT_movement'] * df2['Predicted_Signal2'].shift(1)\n",
    "Cumulative_My_returns = np.cumsum(df2[split:]['My_returns'])\n",
    "\n",
    "plt.figure(figsize=(10,5))\n",
    "plt.plot(Cumulative_AOT_returns, color='r',label = 'AOT')\n",
    "plt.plot(Cumulative_Strategy_returns, color='g', label = 'Their Strategy Returns')\n",
    "plt.plot(Cumulative_My_returns, color='b', label = 'My Returns')\n",
    "plt.legend()\n",
    "plt.show()"
   ]
  },
  {
   "cell_type": "code",
   "execution_count": null,
   "id": "48d43f5b",
   "metadata": {},
   "outputs": [],
   "source": []
  }
 ],
 "metadata": {
  "kernelspec": {
   "display_name": "Python 3 (ipykernel)",
   "language": "python",
   "name": "python3"
  },
  "language_info": {
   "codemirror_mode": {
    "name": "ipython",
    "version": 3
   },
   "file_extension": ".py",
   "mimetype": "text/x-python",
   "name": "python",
   "nbconvert_exporter": "python",
   "pygments_lexer": "ipython3",
   "version": "3.11.7"
  }
 },
 "nbformat": 4,
 "nbformat_minor": 5
}
