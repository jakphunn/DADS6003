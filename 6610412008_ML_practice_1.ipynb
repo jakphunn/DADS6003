{
  "cells": [
    {
      "cell_type": "markdown",
      "metadata": {
        "id": "view-in-github",
        "colab_type": "text"
      },
      "source": [
        "<a href=\"https://colab.research.google.com/github/jakphunn/DADS6003/blob/main/6610412008_ML_practice_1.ipynb\" target=\"_parent\"><img src=\"https://colab.research.google.com/assets/colab-badge.svg\" alt=\"Open In Colab\"/></a>"
      ]
    },
    {
      "cell_type": "code",
      "execution_count": null,
      "id": "a400ff3c",
      "metadata": {
        "id": "a400ff3c"
      },
      "outputs": [],
      "source": [
        "from sklearn.linear_model import LinearRegression\n",
        "from sklearn.model_selection import train_test_split\n",
        "from sklearn.metrics import r2_score, mean_absolute_error, mean_squared_error\n",
        "\n",
        "import pickle\n",
        "import numpy as np\n",
        "import pandas as pd\n",
        "import os\n",
        "import matplotlib.pyplot as plt\n",
        "import seaborn as sns"
      ]
    },
    {
      "cell_type": "code",
      "execution_count": null,
      "id": "c00c31e9",
      "metadata": {
        "id": "c00c31e9",
        "outputId": "afc1b027-2a93-49e7-8a09-035a855e9999"
      },
      "outputs": [
        {
          "data": {
            "text/html": [
              "<div>\n",
              "<style scoped>\n",
              "    .dataframe tbody tr th:only-of-type {\n",
              "        vertical-align: middle;\n",
              "    }\n",
              "\n",
              "    .dataframe tbody tr th {\n",
              "        vertical-align: top;\n",
              "    }\n",
              "\n",
              "    .dataframe thead th {\n",
              "        text-align: right;\n",
              "    }\n",
              "</style>\n",
              "<table border=\"1\" class=\"dataframe\">\n",
              "  <thead>\n",
              "    <tr style=\"text-align: right;\">\n",
              "      <th></th>\n",
              "      <th>price</th>\n",
              "      <th>area</th>\n",
              "      <th>bedrooms</th>\n",
              "      <th>bathrooms</th>\n",
              "      <th>stories</th>\n",
              "      <th>mainroad</th>\n",
              "      <th>guestroom</th>\n",
              "      <th>basement</th>\n",
              "      <th>hotwaterheating</th>\n",
              "      <th>airconditioning</th>\n",
              "      <th>parking</th>\n",
              "      <th>prefarea</th>\n",
              "      <th>furnishingstatus</th>\n",
              "    </tr>\n",
              "  </thead>\n",
              "  <tbody>\n",
              "    <tr>\n",
              "      <th>0</th>\n",
              "      <td>13300000</td>\n",
              "      <td>7420</td>\n",
              "      <td>4</td>\n",
              "      <td>2</td>\n",
              "      <td>3</td>\n",
              "      <td>yes</td>\n",
              "      <td>no</td>\n",
              "      <td>no</td>\n",
              "      <td>no</td>\n",
              "      <td>yes</td>\n",
              "      <td>2</td>\n",
              "      <td>yes</td>\n",
              "      <td>furnished</td>\n",
              "    </tr>\n",
              "    <tr>\n",
              "      <th>1</th>\n",
              "      <td>12250000</td>\n",
              "      <td>8960</td>\n",
              "      <td>4</td>\n",
              "      <td>4</td>\n",
              "      <td>4</td>\n",
              "      <td>yes</td>\n",
              "      <td>no</td>\n",
              "      <td>no</td>\n",
              "      <td>no</td>\n",
              "      <td>yes</td>\n",
              "      <td>3</td>\n",
              "      <td>no</td>\n",
              "      <td>furnished</td>\n",
              "    </tr>\n",
              "    <tr>\n",
              "      <th>2</th>\n",
              "      <td>12250000</td>\n",
              "      <td>9960</td>\n",
              "      <td>3</td>\n",
              "      <td>2</td>\n",
              "      <td>2</td>\n",
              "      <td>yes</td>\n",
              "      <td>no</td>\n",
              "      <td>yes</td>\n",
              "      <td>no</td>\n",
              "      <td>no</td>\n",
              "      <td>2</td>\n",
              "      <td>yes</td>\n",
              "      <td>semi-furnished</td>\n",
              "    </tr>\n",
              "    <tr>\n",
              "      <th>3</th>\n",
              "      <td>12215000</td>\n",
              "      <td>7500</td>\n",
              "      <td>4</td>\n",
              "      <td>2</td>\n",
              "      <td>2</td>\n",
              "      <td>yes</td>\n",
              "      <td>no</td>\n",
              "      <td>yes</td>\n",
              "      <td>no</td>\n",
              "      <td>yes</td>\n",
              "      <td>3</td>\n",
              "      <td>yes</td>\n",
              "      <td>furnished</td>\n",
              "    </tr>\n",
              "    <tr>\n",
              "      <th>4</th>\n",
              "      <td>11410000</td>\n",
              "      <td>7420</td>\n",
              "      <td>4</td>\n",
              "      <td>1</td>\n",
              "      <td>2</td>\n",
              "      <td>yes</td>\n",
              "      <td>yes</td>\n",
              "      <td>yes</td>\n",
              "      <td>no</td>\n",
              "      <td>yes</td>\n",
              "      <td>2</td>\n",
              "      <td>no</td>\n",
              "      <td>furnished</td>\n",
              "    </tr>\n",
              "  </tbody>\n",
              "</table>\n",
              "</div>"
            ],
            "text/plain": [
              "      price  area  bedrooms  bathrooms  stories mainroad guestroom basement  \\\n",
              "0  13300000  7420         4          2        3      yes        no       no   \n",
              "1  12250000  8960         4          4        4      yes        no       no   \n",
              "2  12250000  9960         3          2        2      yes        no      yes   \n",
              "3  12215000  7500         4          2        2      yes        no      yes   \n",
              "4  11410000  7420         4          1        2      yes       yes      yes   \n",
              "\n",
              "  hotwaterheating airconditioning  parking prefarea furnishingstatus  \n",
              "0              no             yes        2      yes        furnished  \n",
              "1              no             yes        3       no        furnished  \n",
              "2              no              no        2      yes   semi-furnished  \n",
              "3              no             yes        3      yes        furnished  \n",
              "4              no             yes        2       no        furnished  "
            ]
          },
          "execution_count": 2,
          "metadata": {},
          "output_type": "execute_result"
        }
      ],
      "source": [
        "hp = pd.read_csv('https://raw.githubusercontent.com/jakphunn/DADS6003/main/Housing.csv')\n",
        "hp.head()"
      ]
    },
    {
      "cell_type": "code",
      "execution_count": null,
      "id": "54cad2af",
      "metadata": {
        "id": "54cad2af",
        "outputId": "e0581490-f114-4299-a952-a5ee05f083a3"
      },
      "outputs": [
        {
          "name": "stdout",
          "output_type": "stream",
          "text": [
            "<class 'pandas.core.frame.DataFrame'>\n",
            "RangeIndex: 545 entries, 0 to 544\n",
            "Data columns (total 13 columns):\n",
            " #   Column            Non-Null Count  Dtype \n",
            "---  ------            --------------  ----- \n",
            " 0   price             545 non-null    int64 \n",
            " 1   area              545 non-null    int64 \n",
            " 2   bedrooms          545 non-null    int64 \n",
            " 3   bathrooms         545 non-null    int64 \n",
            " 4   stories           545 non-null    int64 \n",
            " 5   mainroad          545 non-null    object\n",
            " 6   guestroom         545 non-null    object\n",
            " 7   basement          545 non-null    object\n",
            " 8   hotwaterheating   545 non-null    object\n",
            " 9   airconditioning   545 non-null    object\n",
            " 10  parking           545 non-null    int64 \n",
            " 11  prefarea          545 non-null    object\n",
            " 12  furnishingstatus  545 non-null    object\n",
            "dtypes: int64(6), object(7)\n",
            "memory usage: 55.5+ KB\n",
            "None\n",
            "\n",
            "price               219\n",
            "area                284\n",
            "bedrooms              6\n",
            "bathrooms             4\n",
            "stories               4\n",
            "mainroad              2\n",
            "guestroom             2\n",
            "basement              2\n",
            "hotwaterheating       2\n",
            "airconditioning       2\n",
            "parking               4\n",
            "prefarea              2\n",
            "furnishingstatus      3\n",
            "dtype: int64\n"
          ]
        }
      ],
      "source": [
        "#survey\n",
        "print(hp.info())\n",
        "print('')\n",
        "print(hp.nunique())"
      ]
    },
    {
      "cell_type": "code",
      "execution_count": null,
      "id": "3fec15f1",
      "metadata": {
        "id": "3fec15f1"
      },
      "outputs": [],
      "source": [
        "#data preparation\n",
        "\n",
        "#taking out outliers in price\n",
        "pq1 = hp.price.quantile(0.25)\n",
        "pq3 = hp.price.quantile(0.75)\n",
        "piqr = pq3 - pq1\n",
        "hp = hp[(hp.price >= pq1 - (1.5 * piqr)) & (hp.price <= pq3 + (1.5 * piqr))]\n",
        "\n",
        "#taking out outliers in area\n",
        "aq1 = hp.area.quantile(0.25)\n",
        "aq3 = hp.area.quantile(0.75)\n",
        "aiqr = aq3 - aq1\n",
        "hp = hp[(hp.area >= aq1 - (1.5 * aiqr)) & (hp.area <= aq3 + (1.5 * aiqr))]\n",
        "\n",
        "x = hp.drop(columns=[\"price\"])\n",
        "y = hp[[\"price\"]]\n",
        "\n",
        "m1 = {\"yes\": 1, \"no\": 0}\n",
        "x[\"mainroad\"] = x[\"mainroad\"].map(m1)\n",
        "x[\"guestroom\"] = x[\"guestroom\"].map(m1)\n",
        "x[\"basement\"] = x[\"basement\"].map(m1)\n",
        "x[\"hotwaterheating\"] = x[\"hotwaterheating\"].map(m1)\n",
        "x[\"airconditioning\"] = x[\"airconditioning\"].map(m1)\n",
        "x[\"prefarea\"] = x[\"prefarea\"].map(m1)\n",
        "\n",
        "m2 = {\"furnished\": 1 ,\"semi-furnished\": 0.5,\"unfurnished\":0}\n",
        "x[\"furnishingstatus\"] = x[\"furnishingstatus\"].map(m2)"
      ]
    },
    {
      "cell_type": "code",
      "execution_count": null,
      "id": "2b205a83",
      "metadata": {
        "id": "2b205a83",
        "outputId": "a57a4c8b-8183-4765-830b-ac97390b90fd"
      },
      "outputs": [
        {
          "name": "stdout",
          "output_type": "stream",
          "text": [
            "Mean Squared Error: 977664860283.9722\n",
            "Root Mean Squared Error: 988769.3665784616\n",
            "R^2 Score: 0.6667603355640939\n"
          ]
        }
      ],
      "source": [
        "x_train, x_test, y_train, y_test = train_test_split(x, y, test_size=0.2, random_state=42)\n",
        "\n",
        "model = LinearRegression()\n",
        "\n",
        "# train the model\n",
        "model.fit(x_train, y_train)\n",
        "\n",
        "# make predictions\n",
        "y_pred = model.predict(x_test)\n",
        "\n",
        "# evaluate the model\n",
        "mse = mean_squared_error(y_test, y_pred)\n",
        "rmse = mean_squared_error(y_test, y_pred, squared=False)\n",
        "r2 = r2_score(y_test, y_pred)\n",
        "\n",
        "print(f'Mean Squared Error: {mse}')\n",
        "print(f'Root Mean Squared Error: {rmse}')\n",
        "print(f'R^2 Score: {r2}')"
      ]
    },
    {
      "cell_type": "code",
      "execution_count": null,
      "id": "d2e49e82",
      "metadata": {
        "id": "d2e49e82"
      },
      "outputs": [],
      "source": [
        "pickle.dump(model, open('ml_6610412008.sav','wb'))"
      ]
    },
    {
      "cell_type": "code",
      "execution_count": null,
      "id": "18e6ad17",
      "metadata": {
        "id": "18e6ad17"
      },
      "outputs": [],
      "source": [
        "from google.colab import files\n",
        "files.download('ml_6610412008.sav')"
      ]
    }
  ],
  "metadata": {
    "kernelspec": {
      "display_name": "Python 3 (ipykernel)",
      "language": "python",
      "name": "python3"
    },
    "language_info": {
      "codemirror_mode": {
        "name": "ipython",
        "version": 3
      },
      "file_extension": ".py",
      "mimetype": "text/x-python",
      "name": "python",
      "nbconvert_exporter": "python",
      "pygments_lexer": "ipython3",
      "version": "3.11.7"
    },
    "colab": {
      "provenance": [],
      "include_colab_link": true
    }
  },
  "nbformat": 4,
  "nbformat_minor": 5
}